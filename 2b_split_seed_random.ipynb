{
 "cells": [
  {
   "cell_type": "code",
   "execution_count": 1,
   "id": "c0a1a6ae-51fa-418f-9188-c11c094a74ca",
   "metadata": {},
   "outputs": [],
   "source": [
    "import pickle\n",
    "import os\n",
    "import json\n",
    "import numpy as np\n",
    "import pandas as pd\n",
    "import re\n",
    "from sklearn.model_selection import train_test_split"
   ]
  },
  {
   "cell_type": "code",
   "execution_count": 2,
   "id": "0f6c5596-555d-4bb6-8aaf-7135b918cde3",
   "metadata": {},
   "outputs": [],
   "source": [
    "method = 'pool'\n",
    "\n",
    "dataset_name = 'wos46985'\n",
    "base_dir = '../../data/WOS/'\n",
    "data_file = base_dir+'Meta-data/Data.csv'\n",
    "\n",
    "text_embedding_dir = '../data/'+dataset_name\n",
    "\n",
    "seed_indices_file = text_embedding_dir+'/seed_indices.json'\n",
    "remaining_indices_file = text_embedding_dir+'/remaining_indices.json'"
   ]
  },
  {
   "cell_type": "code",
   "execution_count": 3,
   "id": "2c03cea7-481b-42ef-a789-be8f7a750047",
   "metadata": {},
   "outputs": [
    {
     "name": "stdout",
     "output_type": "stream",
     "text": [
      "Num Data: 46985\n"
     ]
    }
   ],
   "source": [
    "df = pd.read_csv(data_file)\n",
    "print('Num Data:',len(df))"
   ]
  },
  {
   "cell_type": "code",
   "execution_count": 4,
   "id": "e3da774b-964e-466f-8df8-91457fe204b8",
   "metadata": {},
   "outputs": [
    {
     "data": {
      "text/html": [
       "<div>\n",
       "<style scoped>\n",
       "    .dataframe tbody tr th:only-of-type {\n",
       "        vertical-align: middle;\n",
       "    }\n",
       "\n",
       "    .dataframe tbody tr th {\n",
       "        vertical-align: top;\n",
       "    }\n",
       "\n",
       "    .dataframe thead th {\n",
       "        text-align: right;\n",
       "    }\n",
       "</style>\n",
       "<table border=\"1\" class=\"dataframe\">\n",
       "  <thead>\n",
       "    <tr style=\"text-align: right;\">\n",
       "      <th></th>\n",
       "      <th>Y1</th>\n",
       "      <th>Y2</th>\n",
       "      <th>Y</th>\n",
       "      <th>Domain</th>\n",
       "      <th>area</th>\n",
       "      <th>keywords</th>\n",
       "      <th>Abstract</th>\n",
       "    </tr>\n",
       "  </thead>\n",
       "  <tbody>\n",
       "    <tr>\n",
       "      <th>0</th>\n",
       "      <td>0</td>\n",
       "      <td>12</td>\n",
       "      <td>12</td>\n",
       "      <td>CS</td>\n",
       "      <td>Symbolic computation</td>\n",
       "      <td>(2+1)-dimensional non-linear optical waves; e...</td>\n",
       "      <td>\"(2 + 1)-dimensional non-linear optical waves ...</td>\n",
       "    </tr>\n",
       "    <tr>\n",
       "      <th>1</th>\n",
       "      <td>5</td>\n",
       "      <td>2</td>\n",
       "      <td>74</td>\n",
       "      <td>Medical</td>\n",
       "      <td>Alzheimer's Disease</td>\n",
       "      <td>Aging; Tau; Amyloid; PET; Alzheimer's disease...</td>\n",
       "      <td>\"(beta-amyloid (A beta) and tau pathology beco...</td>\n",
       "    </tr>\n",
       "  </tbody>\n",
       "</table>\n",
       "</div>"
      ],
      "text/plain": [
       "   Y1  Y2   Y    Domain                     area  \\\n",
       "0   0  12  12       CS    Symbolic computation     \n",
       "1   5   2  74  Medical     Alzheimer's Disease     \n",
       "\n",
       "                                            keywords  \\\n",
       "0   (2+1)-dimensional non-linear optical waves; e...   \n",
       "1   Aging; Tau; Amyloid; PET; Alzheimer's disease...   \n",
       "\n",
       "                                            Abstract  \n",
       "0  \"(2 + 1)-dimensional non-linear optical waves ...  \n",
       "1  \"(beta-amyloid (A beta) and tau pathology beco...  "
      ]
     },
     "execution_count": 4,
     "metadata": {},
     "output_type": "execute_result"
    }
   ],
   "source": [
    "df.head(2)"
   ]
  },
  {
   "cell_type": "code",
   "execution_count": 5,
   "id": "d12705ce-8121-46f6-972e-dc160d218025",
   "metadata": {},
   "outputs": [
    {
     "name": "stdout",
     "output_type": "stream",
     "text": [
      "Num L1 Classes: 7\n",
      "Num L2 Classes: 134\n"
     ]
    }
   ],
   "source": [
    "print('Num L1 Classes:', len(df.Y1.unique()))\n",
    "print('Num L2 Classes:', len(df.Y.unique()))"
   ]
  },
  {
   "cell_type": "code",
   "execution_count": 6,
   "id": "3bb331db-3c45-4261-91d3-e23cde36783a",
   "metadata": {},
   "outputs": [],
   "source": [
    "def split_seed_df(Y1, Y2, sample_N=3):\n",
    "    text_df = df[(df.Y1==Y1)&(df.Y2==Y2)]\n",
    "    grp_indices = text_df.index\n",
    "\n",
    "    if len(grp_indices)>1:\n",
    "        if len(grp_indices) <= sample_N:\n",
    "            sample_N = int(len(grp_indices)/2)\n",
    "        remaining_indices, seed_indices = train_test_split(grp_indices, test_size=sample_N)\n",
    "    else:\n",
    "        seed_indices = text_df.index\n",
    "        remaining_indices = text_df.index\n",
    "\n",
    "    return (seed_indices.values, remaining_indices.values)\n",
    "\n",
    "def get_parent_seed(Y1, sample_N=8):\n",
    "    parent_all_seeds = df[(df.Y1==Y1)].index\n",
    "    _, seed_indices = train_test_split(parent_all_seeds, test_size=sample_N)\n",
    "\n",
    "    return seed_indices"
   ]
  },
  {
   "cell_type": "code",
   "execution_count": 7,
   "id": "3e6ef542-b557-4177-80ea-e1a328be2c55",
   "metadata": {},
   "outputs": [],
   "source": [
    "num_sample = 4\n",
    "\n",
    "seeds = dict()\n",
    "remaining = dict()\n",
    "class_groups = df.groupby(['Y1','Y2'])['Y'].size().reset_index()\n",
    "for parent in class_groups.Y1.unique():\n",
    "    parent = parent.item()\n",
    "    seeds[parent] = dict()\n",
    "    seeds[parent]['indices'] = []\n",
    "    seeds[parent]['sub-topic'] = dict()\n",
    "    remaining[parent] = dict()\n",
    "    remaining[parent]['sub-topic'] = dict()\n",
    "for i,class_group in class_groups.iterrows():\n",
    "    parent, child = class_group.Y1.item(), class_group.Y2.item()\n",
    "    seeds[parent]['sub-topic'][child] = dict()\n",
    "    seeds[parent]['sub-topic'][child]['indices'] = []\n",
    "    remaining[parent]['sub-topic'][child] = dict()\n",
    "    remaining[parent]['sub-topic'][child]['indices'] = []\n",
    "    \n",
    "for i,class_group in class_groups.iterrows():\n",
    "    parent, child = class_group.Y1.item(), class_group.Y2.item()\n",
    "    seed, dat = split_seed_df(parent, child, num_sample)\n",
    "    seeds[parent]['sub-topic'][child]['indices'] = seed.tolist()\n",
    "    remaining[parent]['sub-topic'][child]['indices'] = dat.tolist()"
   ]
  },
  {
   "cell_type": "code",
   "execution_count": 8,
   "id": "9f6458ed-2856-4287-984a-88a03138908f",
   "metadata": {},
   "outputs": [],
   "source": [
    "num_sample = 8\n",
    "\n",
    "for parent in class_groups.Y1.unique():\n",
    "    parent = parent.item()\n",
    "    seed = get_parent_seed(parent, num_sample)\n",
    "    seeds[parent]['indices'] = seed.tolist()"
   ]
  },
  {
   "cell_type": "code",
   "execution_count": 9,
   "id": "b4e96a2a-33e5-4eb8-81bd-cb0b2dfce7a3",
   "metadata": {},
   "outputs": [],
   "source": [
    "for i,class_group in class_groups.iterrows():\n",
    "    parent, child = class_group.Y1.item(), class_group.Y2.item()\n",
    "    remaining[parent]['sub-topic'][child]['indices'] = [\n",
    "        x for x in remaining[parent]['sub-topic'][child]['indices'] if x not in seeds[parent]['indices']\n",
    "    ]"
   ]
  },
  {
   "cell_type": "code",
   "execution_count": 10,
   "id": "c46ccc65-59fa-462a-8518-fc89c169f563",
   "metadata": {},
   "outputs": [],
   "source": [
    "# seeds, remaining"
   ]
  },
  {
   "cell_type": "code",
   "execution_count": 11,
   "id": "e6b65420-4810-4554-a7bd-9418d8fad6be",
   "metadata": {},
   "outputs": [],
   "source": [
    "with open(seed_indices_file, \"w\") as outfile:\n",
    "    json.dump(seeds, outfile, indent = 4)"
   ]
  },
  {
   "cell_type": "code",
   "execution_count": 12,
   "id": "93ef815f-7de2-4e8d-b86e-37fb32ae7977",
   "metadata": {},
   "outputs": [],
   "source": [
    "with open(remaining_indices_file, \"w\") as outfile:\n",
    "    json.dump(remaining, outfile, indent = 4)"
   ]
  },
  {
   "cell_type": "code",
   "execution_count": null,
   "id": "598605d8-7951-4be8-9c57-7865275289fe",
   "metadata": {},
   "outputs": [],
   "source": []
  }
 ],
 "metadata": {
  "kernelspec": {
   "display_name": "Python 3",
   "language": "python",
   "name": "python3"
  },
  "language_info": {
   "codemirror_mode": {
    "name": "ipython",
    "version": 3
   },
   "file_extension": ".py",
   "mimetype": "text/x-python",
   "name": "python",
   "nbconvert_exporter": "python",
   "pygments_lexer": "ipython3",
   "version": "3.8.8"
  }
 },
 "nbformat": 4,
 "nbformat_minor": 5
}
