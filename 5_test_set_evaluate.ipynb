{
 "cells": [
  {
   "cell_type": "code",
   "execution_count": 1,
   "id": "419caf8b-b57a-4383-bea1-6434225e64be",
   "metadata": {},
   "outputs": [],
   "source": [
    "import pickle\n",
    "import json\n",
    "import copy\n",
    "import numpy as np\n",
    "import pandas as pd\n",
    "import matplotlib.pyplot as plt\n",
    "\n",
    "from seededHierarchicalDensityClustering import SeededHierarchicalDensityClustering\n",
    "from evaluateSHDC_wos import evaluate, print_metrics, print_metrics_bcubed"
   ]
  },
  {
   "cell_type": "code",
   "execution_count": 2,
   "id": "39b1dde1-2b19-47f6-b0de-3ed8a29c96a1",
   "metadata": {},
   "outputs": [],
   "source": [
    "method = 'pool'\n",
    "embedding_type = 'roberta' # roberta, glove300, fastText\n",
    "\n",
    "dataset_name = 'wos46985'\n",
    "base_dir = '../../data/WOS/'\n",
    "data_file = base_dir+'Meta-data/Data.csv'\n",
    "\n",
    "text_embedding_dir = '../data/'+dataset_name\n",
    "text_embedding_file = text_embedding_dir+'/'+embedding_type+'-embedding-'+method+'.pkl'\n",
    "\n",
    "seed_indices_file = text_embedding_dir+'/seed_indices.json'\n",
    "remaining_indices_file = text_embedding_dir+'/remaining_indices.json'\n",
    "data_indices_test_file = text_embedding_dir+'/data_indices_test.json'\n",
    "data_indices_train_file = text_embedding_dir+'/data_indices_train.json'\n",
    "    \n",
    "seed_embeddings_file = text_embedding_dir+'/cluster_hierarchy_seed_embeddings-roberta-'+method+'.pkl'\n",
    "\n",
    "topic_distance_threshold_file = '../model/'+dataset_name+'/topic_distance_threshold.pkl'\n",
    "topic_seed_file ='../model/'+dataset_name+'/cluster_hierarchy_seed_embeddings-roberta-'+method+'.pkl'\n",
    "model_parameters_file = '../model/'+dataset_name+'/model_parameters.pkl'\n",
    "\n",
    "eval_indices_file = text_embedding_dir+'/eval_indices.json'\n",
    "eval_indices_test_file = text_embedding_dir+'/eval_set_test_indices.json'"
   ]
  },
  {
   "cell_type": "markdown",
   "id": "57154500-6271-406e-98f0-bd5808ddbafb",
   "metadata": {},
   "source": [
    "### Read Model Parameters"
   ]
  },
  {
   "cell_type": "code",
   "execution_count": 3,
   "id": "16b45643-9dc4-4611-b427-4c8fbf472aea",
   "metadata": {
    "tags": []
   },
   "outputs": [],
   "source": [
    "params = pickle.load(open(model_parameters_file, \"rb\"))\n",
    "\n",
    "init_neighbors_perc = params['init_neighbors_perc']\n",
    "main_topic_update_method = -1\n",
    "main_topic_weight = 0\n",
    "create_other_main = -1\n",
    "create_other_sub = -1"
   ]
  },
  {
   "cell_type": "markdown",
   "id": "7d96806e-cbc7-49b2-823d-0b4ae2fd70da",
   "metadata": {},
   "source": [
    "### Read Learnt Topic Seeds & Thresholds"
   ]
  },
  {
   "cell_type": "code",
   "execution_count": 4,
   "id": "53b9b3e7-879a-4ffb-af0d-6511646ad4b8",
   "metadata": {
    "tags": []
   },
   "outputs": [],
   "source": [
    "method = 'pool'\n",
    "topic_seeds = pickle.load(open(topic_seed_file, \"rb\"))"
   ]
  },
  {
   "cell_type": "code",
   "execution_count": 5,
   "id": "2484b7c5-5bb9-4ec2-8159-0203c1158562",
   "metadata": {
    "tags": []
   },
   "outputs": [],
   "source": [
    "topic_distance_threshold = pickle.load(open(topic_distance_threshold_file, \"rb\"))"
   ]
  },
  {
   "cell_type": "markdown",
   "id": "5f9d4a31-a5e4-4e0f-af75-2267c6506091",
   "metadata": {},
   "source": [
    "### Read Text Embeddings"
   ]
  },
  {
   "cell_type": "code",
   "execution_count": 6,
   "id": "b8a227cc-d20e-4010-a005-5b5823b37e99",
   "metadata": {
    "tags": []
   },
   "outputs": [
    {
     "data": {
      "text/plain": [
       "(15320, 768)"
      ]
     },
     "execution_count": 6,
     "metadata": {},
     "output_type": "execute_result"
    }
   ],
   "source": [
    "text_embeddings = pickle.load(open(text_embedding_file, \"rb\"))\n",
    "\n",
    "with open(data_indices_test_file, \"r\") as infile:\n",
    "    data_indices = json.load(infile)\n",
    "        \n",
    "X = text_embeddings[data_indices]\n",
    "X.shape"
   ]
  },
  {
   "cell_type": "markdown",
   "id": "35909c32-10a8-4540-980b-d5076f51cf7e",
   "metadata": {},
   "source": [
    "### Create Eval Set"
   ]
  },
  {
   "cell_type": "code",
   "execution_count": 7,
   "id": "b9bd75a2-a76a-43fd-a2c0-1b2bad9b90ed",
   "metadata": {},
   "outputs": [],
   "source": [
    "shdc = SeededHierarchicalDensityClustering(\n",
    "    topic_seeds,\n",
    "    init_neighbors_perc=init_neighbors_perc,\n",
    "    main_topic_update_method=main_topic_update_method, \n",
    "    main_topic_weight=main_topic_weight,\n",
    "    create_other_main=create_other_main, \n",
    "    create_other_sub=create_other_sub,\n",
    "    verbose=False\n",
    ")"
   ]
  },
  {
   "cell_type": "code",
   "execution_count": 8,
   "id": "83e5a364-d211-4af1-a932-a5aa1f5387d7",
   "metadata": {},
   "outputs": [],
   "source": [
    "shdc._create_dist_matrix(X, shdc.topic_seeds)\n",
    "shdc.topic_distance_threshold = topic_distance_threshold\n",
    "shdc._get_L1_topic_assignments(shdc.topic_distance_threshold)\n",
    "shdc.fit_L2(X)"
   ]
  },
  {
   "cell_type": "code",
   "execution_count": 9,
   "id": "181eaec0-7499-4954-be81-92162de11507",
   "metadata": {},
   "outputs": [],
   "source": [
    "df = pd.read_csv(data_file).loc[data_indices].rename(\n",
    "    columns={\n",
    "        'Y':'level_1',\n",
    "        'Y1':'level_2',\n",
    "        'Y2':'level_3'\n",
    "    }\n",
    ")\n",
    "df.level_1 = dataset_name\n",
    "df.level_2 = df.level_2.astype(str)\n",
    "df.level_3 = df.level_3.astype(str)"
   ]
  },
  {
   "cell_type": "code",
   "execution_count": 10,
   "id": "5cb14360-8fb1-44a3-a958-8f10e85f9536",
   "metadata": {},
   "outputs": [],
   "source": [
    "topics_points_hierarchical =  shdc.topics_points_hierarchical\n",
    "topics_points_distances_hierarchical = shdc.topics_points_distances_hierarchical\n",
    "sub_topics_points_distances = shdc.sub_topics_points_distances"
   ]
  },
  {
   "cell_type": "code",
   "execution_count": 11,
   "id": "76f1fc23-d6b9-4572-8e46-84fc6c8e112f",
   "metadata": {},
   "outputs": [],
   "source": [
    "data_indices = np.array(data_indices)"
   ]
  },
  {
   "cell_type": "code",
   "execution_count": 12,
   "id": "8bbe2e85-67a2-4c5c-a987-68f26494ab9b",
   "metadata": {},
   "outputs": [],
   "source": [
    "df['assigned_cluster'] = 'None'\n",
    "df['assigned_level_1'] = 'None'\n",
    "df['assigned_level_2'] = 'None'\n",
    "df['assigned_level_3'] = 'None'\n",
    "df['distance_assigned_level_2'] = np.nan\n",
    "df['distance_assigned_level_3'] = np.nan\n",
    "for topic_hierarchical in topics_points_hierarchical.keys():\n",
    "    topic_hierarchical_indices = data_indices[topics_points_hierarchical[topic_hierarchical]]\n",
    "    df.loc[topic_hierarchical_indices, ['assigned_level_1']] = dataset_name\n",
    "    df.loc[topic_hierarchical_indices, ['assigned_level_2']]  = topic_hierarchical\n",
    "    df.loc[topic_hierarchical_indices, ['assigned_level_3']]  = 'Other'\n",
    "    df.loc[topic_hierarchical_indices, ['assigned_cluster']]  = topic_hierarchical\n",
    "    df.loc[topic_hierarchical_indices, ['distance_assigned_level_2']] = topics_points_distances_hierarchical[topic_hierarchical]\n",
    "    if topic_hierarchical in sub_topics_points_distances.keys():      # if the topic is actually a sub-topic\n",
    "        df.loc[topic_hierarchical_indices, ['distance_assigned_level_3']] = sub_topics_points_distances[topic_hierarchical]\n",
    "        main,sub = topic_hierarchical.split('/')\n",
    "        df.loc[topic_hierarchical_indices, ['assigned_level_2']]  = main\n",
    "        df.loc[topic_hierarchical_indices, ['assigned_level_3']]  = sub\n",
    "\n",
    "df.loc[(df['level_1']!=dataset_name),'level_1'] = 'None'\n",
    "df.loc[(df['level_1']!=dataset_name),'level_2'] = 'None'\n",
    "df.loc[(df['level_1']!=dataset_name),'level_3'] = 'None'"
   ]
  },
  {
   "cell_type": "code",
   "execution_count": 14,
   "id": "8030a973-4f93-43e0-a46b-1ed3a0f27fec",
   "metadata": {},
   "outputs": [],
   "source": [
    "keep_l2_pairs = df.groupby(['level_2','assigned_level_2']).size(\n",
    ").reset_index(\n",
    ").groupby('level_2').apply(\n",
    "    lambda gdf: pd.concat([\n",
    "        gdf[gdf[0]==np.sort(gdf[0])[-1]], \n",
    "        gdf[gdf[0]==np.sort(gdf[0])[int(len(gdf)/2)]],\n",
    "        gdf[gdf[0]==np.sort(gdf[0])[0]]\n",
    "    ])[['assigned_level_2']]\n",
    ").reset_index()[['level_2','assigned_level_2']]"
   ]
  },
  {
   "cell_type": "code",
   "execution_count": 15,
   "id": "e836f694-cede-47de-8f1d-61e884deea61",
   "metadata": {},
   "outputs": [],
   "source": [
    "keep_indices = []\n",
    "for i,row in keep_l2_pairs.iterrows():\n",
    "    keep_indices.extend(\n",
    "        df[(df.level_2==row.level_2)&(df.assigned_level_2==row.assigned_level_2)].index.values.tolist()\n",
    "    )"
   ]
  },
  {
   "cell_type": "code",
   "execution_count": 16,
   "id": "2efdc83b-0681-4ba4-b98f-37ff6bc4d43e",
   "metadata": {},
   "outputs": [],
   "source": [
    "keep_df = df.loc[keep_indices]"
   ]
  },
  {
   "cell_type": "code",
   "execution_count": 17,
   "id": "8b7427b3-af71-4727-9764-b92853dbc4aa",
   "metadata": {},
   "outputs": [
    {
     "data": {
      "text/plain": [
       "((0.7776010385097176, 0.5666420515098053, 0.655568105186841),\n",
       " (0.6028572936713468, 0.7239364348162436, 0.6578722080347638))"
      ]
     },
     "execution_count": 17,
     "metadata": {},
     "output_type": "execute_result"
    }
   ],
   "source": [
    "from sklearn.metrics import homogeneity_completeness_v_measure\n",
    "from b3 import calc_b3\n",
    "\n",
    "fscore_l2,precision_l2,recall_l2 = calc_b3(\n",
    "    keep_df[keep_df.level_1==keep_df.assigned_level_1].assigned_level_2, keep_df[keep_df.level_1==keep_df.assigned_level_1].level_2\n",
    ")\n",
    "homogeneity_l2, completeness_l2, v_measure_l2 = homogeneity_completeness_v_measure(\n",
    "    keep_df[keep_df.level_1==keep_df.assigned_level_1].level_2, keep_df[keep_df.level_1==keep_df.assigned_level_1].assigned_level_2\n",
    ")\n",
    "(precision_l2,recall_l2,fscore_l2),(homogeneity_l2, completeness_l2, v_measure_l2)"
   ]
  },
  {
   "cell_type": "code",
   "execution_count": 18,
   "id": "9f8a6a78-c42a-4155-abc7-add5d8059547",
   "metadata": {},
   "outputs": [],
   "source": [
    "keep_l3_pairs = keep_df.groupby(['level_3','assigned_level_3']).size(\n",
    ").reset_index(\n",
    ").groupby('level_3').apply(\n",
    "    lambda gdf: pd.concat([\n",
    "        gdf[gdf[0]==np.sort(gdf[0])[-1]], \n",
    "        gdf[gdf[0]==np.sort(gdf[0])[int(len(gdf)/2)]],\n",
    "        gdf[gdf[0]==np.sort(gdf[0])[0]]\n",
    "    ])[['assigned_level_3']]\n",
    ").reset_index()[['level_3','assigned_level_3']]"
   ]
  },
  {
   "cell_type": "code",
   "execution_count": 19,
   "id": "68f10305-391c-4b23-bdfc-7ec79e5f3688",
   "metadata": {},
   "outputs": [],
   "source": [
    "keep_indices = []\n",
    "for i,row in keep_l3_pairs.iterrows():\n",
    "    keep_indices.extend(\n",
    "        keep_df[(keep_df.level_3==row.level_3)&(keep_df.assigned_level_3==row.assigned_level_3)].index.values.tolist()\n",
    "    )\n",
    "keep_keep_df = keep_df.loc[keep_indices]"
   ]
  },
  {
   "cell_type": "code",
   "execution_count": 20,
   "id": "ed977d8c-38c7-4ade-b944-0009760c743b",
   "metadata": {},
   "outputs": [
    {
     "data": {
      "text/plain": [
       "((0.5221774154420233, 0.24140569272472548, 0.3301712658432999),\n",
       " (0.4467852792976546, 0.6343753474244771, 0.5243061202439362))"
      ]
     },
     "execution_count": 20,
     "metadata": {},
     "output_type": "execute_result"
    }
   ],
   "source": [
    "from sklearn.metrics import homogeneity_completeness_v_measure\n",
    "from b3 import calc_b3\n",
    "fscore_l3,precision_l3,recall_l3 = calc_b3(\n",
    "    keep_keep_df[keep_keep_df.level_1==keep_keep_df.assigned_level_1].assigned_level_3, keep_keep_df[keep_keep_df.level_1==keep_keep_df.assigned_level_1].level_3\n",
    ")\n",
    "\n",
    "homogeneity_l3, completeness_l3, v_measure_l3 = homogeneity_completeness_v_measure(\n",
    "    keep_keep_df[keep_keep_df.level_1==keep_keep_df.assigned_level_1].level_3, keep_keep_df[keep_keep_df.level_1==keep_keep_df.assigned_level_1].assigned_level_3\n",
    ")\n",
    "\n",
    "(precision_l3,recall_l3,fscore_l3 ), (homogeneity_l3, completeness_l3, v_measure_l3)"
   ]
  }
 ],
 "metadata": {
  "kernelspec": {
   "display_name": "Python 3",
   "language": "python",
   "name": "python3"
  },
  "language_info": {
   "codemirror_mode": {
    "name": "ipython",
    "version": 3
   },
   "file_extension": ".py",
   "mimetype": "text/x-python",
   "name": "python",
   "nbconvert_exporter": "python",
   "pygments_lexer": "ipython3",
   "version": "3.8.8"
  }
 },
 "nbformat": 4,
 "nbformat_minor": 5
}
