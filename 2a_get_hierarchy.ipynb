{
 "cells": [
  {
   "cell_type": "code",
   "execution_count": 1,
   "id": "c0a1a6ae-51fa-418f-9188-c11c094a74ca",
   "metadata": {},
   "outputs": [],
   "source": [
    "import pickle\n",
    "import os\n",
    "import json\n",
    "import numpy as np\n",
    "import pandas as pd\n",
    "import re"
   ]
  },
  {
   "cell_type": "code",
   "execution_count": 2,
   "id": "0f6c5596-555d-4bb6-8aaf-7135b918cde3",
   "metadata": {},
   "outputs": [],
   "source": [
    "method = 'pool'\n",
    "\n",
    "dataset_name = 'wos46985'\n",
    "base_dir = '../../data/WOS/Meta-data/'\n",
    "taxonomy_file = base_dir+'wos.taxnomy'\n",
    "\n",
    "text_embedding_dir = '../data/wos46985'\n",
    "taxonomy_3_level_info_file = text_embedding_dir+'/taxonomy_3_level_info_file.json'"
   ]
  },
  {
   "cell_type": "code",
   "execution_count": 3,
   "id": "bc74261b-7efb-4f26-97d2-2cbb93bddc70",
   "metadata": {},
   "outputs": [],
   "source": [
    "tx_child_dict = dict(\n",
    "    (line.strip().split('\\t')[0],line.strip().split('\\t')[1:]) \n",
    "    for line in open(taxonomy_file).readlines()\n",
    ")\n",
    "tx_parent_dict = dict()"
   ]
  },
  {
   "cell_type": "code",
   "execution_count": 4,
   "id": "a2a06622-fae5-4d64-a430-81ee9aaf72e3",
   "metadata": {},
   "outputs": [],
   "source": [
    "level_0 = 'Root'\n",
    "level_1 = tx_child_dict[level_0]\n",
    "for node in level_1:\n",
    "    tx_parent_dict[node] = level_0\n",
    "    \n",
    "level_2 = []\n",
    "for node in level_1:\n",
    "    try:\n",
    "        level_2.extend(tx_child_dict[node])\n",
    "        for cnode in tx_child_dict[node]:\n",
    "            tx_parent_dict[cnode] = node\n",
    "    except:\n",
    "        pass\n",
    "\n",
    "## Stop at level 3"
   ]
  },
  {
   "cell_type": "code",
   "execution_count": 5,
   "id": "4730fd9d-b66d-4066-a50d-0a7c48d56524",
   "metadata": {},
   "outputs": [],
   "source": [
    "taxonomy_3_level_info = {\n",
    "    'level_0' : level_0,\n",
    "    'level_1' : level_1,\n",
    "    'level_2' : level_2,\n",
    "    'taxonomy_child_map' : tx_child_dict,\n",
    "    'taxonomy_parent_map' : tx_parent_dict\n",
    "}"
   ]
  },
  {
   "cell_type": "code",
   "execution_count": 6,
   "id": "93ef815f-7de2-4e8d-b86e-37fb32ae7977",
   "metadata": {},
   "outputs": [],
   "source": [
    "with open(taxonomy_3_level_info_file, \"w\") as outfile:\n",
    "    json.dump(taxonomy_3_level_info, outfile, indent = 4)"
   ]
  },
  {
   "cell_type": "code",
   "execution_count": null,
   "id": "6a79826c-d01b-43e8-ae88-82f516e19683",
   "metadata": {},
   "outputs": [],
   "source": []
  }
 ],
 "metadata": {
  "kernelspec": {
   "display_name": "Python 3",
   "language": "python",
   "name": "python3"
  },
  "language_info": {
   "codemirror_mode": {
    "name": "ipython",
    "version": 3
   },
   "file_extension": ".py",
   "mimetype": "text/x-python",
   "name": "python",
   "nbconvert_exporter": "python",
   "pygments_lexer": "ipython3",
   "version": "3.8.8"
  }
 },
 "nbformat": 4,
 "nbformat_minor": 5
}
