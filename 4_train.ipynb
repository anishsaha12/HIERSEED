{
 "cells": [
  {
   "cell_type": "code",
   "execution_count": 1,
   "id": "419caf8b-b57a-4383-bea1-6434225e64be",
   "metadata": {},
   "outputs": [],
   "source": [
    "import pickle\n",
    "import json\n",
    "import copy\n",
    "import numpy as np\n",
    "import pandas as pd\n",
    "from sklearn.model_selection import train_test_split\n",
    "import matplotlib.pyplot as plt\n",
    "\n",
    "from seededHierarchicalDensityClustering import SeededHierarchicalDensityClustering\n",
    "from evaluateSHDC_wos import evaluate, print_metrics"
   ]
  },
  {
   "cell_type": "code",
   "execution_count": 2,
   "id": "589366ef-f4b2-4568-80ff-5cdf49969e12",
   "metadata": {},
   "outputs": [],
   "source": [
    "method = 'pool'\n",
    "embedding_type = 'roberta' # roberta, glove300, fastText\n",
    "\n",
    "dataset_name = 'wos46985'\n",
    "base_dir = '../../data/WOS/'\n",
    "data_file = base_dir+'Meta-data/Data.csv'\n",
    "\n",
    "text_embedding_dir = '../data/'+dataset_name\n",
    "text_embedding_file = text_embedding_dir+'/'+embedding_type+'-embedding-'+method+'.pkl'\n",
    "\n",
    "seed_indices_file = text_embedding_dir+'/seed_indices.json'\n",
    "remaining_indices_file = text_embedding_dir+'/remaining_indices.json'\n",
    "data_indices_test_file = text_embedding_dir+'/data_indices_test.json'\n",
    "data_indices_train_file = text_embedding_dir+'/data_indices_train.json'\n",
    "\n",
    "seed_embeddings_file = text_embedding_dir+'/cluster_hierarchy_seed_embeddings-roberta-'+method+'.pkl'"
   ]
  },
  {
   "cell_type": "markdown",
   "id": "57154500-6271-406e-98f0-bd5808ddbafb",
   "metadata": {},
   "source": [
    "### Read Original Topic Seeds"
   ]
  },
  {
   "cell_type": "code",
   "execution_count": 3,
   "id": "b9707016-37c2-4bb3-9a11-2704809ffe61",
   "metadata": {},
   "outputs": [],
   "source": [
    "topic_seeds = pickle.load(open(seed_embeddings_file, \"rb\"))"
   ]
  },
  {
   "cell_type": "markdown",
   "id": "5f9d4a31-a5e4-4e0f-af75-2267c6506091",
   "metadata": {},
   "source": [
    "### Read Text Embeddings"
   ]
  },
  {
   "cell_type": "code",
   "execution_count": 4,
   "id": "b8a227cc-d20e-4010-a005-5b5823b37e99",
   "metadata": {},
   "outputs": [],
   "source": [
    "text_embeddings = pickle.load(open(text_embedding_file, \"rb\"))\n",
    "\n",
    "with open(remaining_indices_file, \"r\") as infile:\n",
    "    remaining = json.load(infile)\n",
    "\n",
    "data_indices = []\n",
    "for parent in remaining.keys():\n",
    "    for child in remaining[parent]['sub-topic'].keys():\n",
    "        data_indices.extend(remaining[parent]['sub-topic'][child]['indices'])"
   ]
  },
  {
   "cell_type": "code",
   "execution_count": 5,
   "id": "2bb9f549-f0f8-4dca-8ecd-cbb72bbed622",
   "metadata": {},
   "outputs": [],
   "source": [
    "data_indices_train, data_indices_test = train_test_split(data_indices, test_size=0.33,random_state= 0)"
   ]
  },
  {
   "cell_type": "code",
   "execution_count": 6,
   "id": "ce2b6483-2322-4ce1-b8aa-8c46735ef1f2",
   "metadata": {},
   "outputs": [
    {
     "name": "stdout",
     "output_type": "stream",
     "text": [
      "46424 31104 15320\n"
     ]
    }
   ],
   "source": [
    "print(len(data_indices),len(data_indices_train), len(data_indices_test))\n",
    "\n",
    "with open(data_indices_train_file, \"w\") as outfile:\n",
    "    json.dump(data_indices_train, outfile, indent = 4)\n",
    "with open(data_indices_test_file, \"w\") as outfile:\n",
    "    json.dump(data_indices_test, outfile, indent = 4)"
   ]
  },
  {
   "cell_type": "code",
   "execution_count": 7,
   "id": "b66191b3-11f6-4459-839d-97f2d18f3e1e",
   "metadata": {},
   "outputs": [
    {
     "data": {
      "text/plain": [
       "(31104, 768)"
      ]
     },
     "execution_count": 7,
     "metadata": {},
     "output_type": "execute_result"
    }
   ],
   "source": [
    "X = text_embeddings[data_indices_train]\n",
    "X.shape"
   ]
  },
  {
   "cell_type": "code",
   "execution_count": 8,
   "id": "cf37e0f3-f861-4bac-a8fb-c49bdb2f62a9",
   "metadata": {},
   "outputs": [],
   "source": [
    "def eval(topic_seeds, topics_points_hierarchical, topics_points_distances_hierarchical, sub_topics_points_distances):\n",
    "    init_neighbors_perc = 0.4\n",
    "    metrics_1 = evaluate(\n",
    "        dataset_name, topic_seeds, 'both', topics_points_hierarchical,\n",
    "        topics_points_distances_hierarchical, sub_topics_points_distances\n",
    "    )\n",
    "    return metrics_1"
   ]
  },
  {
   "cell_type": "markdown",
   "id": "0f0ff2fb-e5f8-4628-b92e-6bf9ed57579d",
   "metadata": {},
   "source": [
    "### Train Cluster"
   ]
  },
  {
   "cell_type": "code",
   "execution_count": 9,
   "id": "23d4e9f6-3510-4ceb-a9b9-f8a00bb45008",
   "metadata": {},
   "outputs": [],
   "source": [
    "## Hyperparameters (determined by experiments)\n",
    "\n",
    "main_topic_update_method = 2\n",
    "main_topic_weight = 5\n",
    "\n",
    "init_neighbors_perc = 0.75\n",
    "\n",
    "create_other_main = False\n",
    "create_other_sub = True"
   ]
  },
  {
   "cell_type": "code",
   "execution_count": 10,
   "id": "28674b2d-8505-41f3-be20-eb86e670221b",
   "metadata": {},
   "outputs": [],
   "source": [
    "shdc = SeededHierarchicalDensityClustering(\n",
    "    topic_seeds,\n",
    "    init_neighbors_perc=init_neighbors_perc,\n",
    "    main_topic_update_method=main_topic_update_method, \n",
    "    main_topic_weight=main_topic_weight,\n",
    "    create_other_main=create_other_main, \n",
    "    create_other_sub=create_other_sub,\n",
    "    verbose=False\n",
    ")"
   ]
  },
  {
   "cell_type": "code",
   "execution_count": 11,
   "id": "13cb6616-534d-460c-835e-54becba1e8a7",
   "metadata": {
    "scrolled": true,
    "tags": []
   },
   "outputs": [
    {
     "name": "stdout",
     "output_type": "stream",
     "text": [
      "Iteration 1 :\n",
      "    Fitting...\n",
      "    Evaluating...\n",
      "    Completed...\n",
      "Iteration 2 :\n",
      "    Fitting...\n",
      "    Evaluating...\n",
      "    Completed...\n",
      "Iteration 3 :\n",
      "    Fitting...\n",
      "    Evaluating...\n",
      "    Completed...\n",
      "Iteration 4 :\n",
      "    Fitting...\n",
      "    Evaluating...\n",
      "    Completed...\n",
      "Iteration 5 :\n",
      "    Fitting...\n",
      "    Evaluating...\n",
      "    Completed...\n",
      "Iteration 6 :\n",
      "    Fitting...\n",
      "    Evaluating...\n",
      "    Completed...\n",
      "Iteration 7 :\n",
      "    Fitting...\n",
      "    Evaluating...\n",
      "    Completed...\n",
      "Iteration 8 :\n",
      "    Fitting...\n",
      "    Evaluating...\n",
      "    Completed...\n",
      "Iteration 9 :\n",
      "    Fitting...\n",
      "    Evaluating...\n",
      "    Completed...\n",
      "Iteration 10 :\n",
      "    Fitting...\n",
      "    Evaluating...\n",
      "    Completed...\n",
      "Iteration 11 :\n",
      "    Fitting...\n",
      "    Evaluating...\n",
      "    Completed...\n",
      "Iteration 12 :\n",
      "    Fitting...\n",
      "    Evaluating...\n",
      "    Completed...\n",
      "Iteration 13 :\n",
      "    Fitting...\n",
      "    Evaluating...\n",
      "    Completed...\n",
      "Iteration 14 :\n",
      "    Fitting...\n",
      "    Evaluating...\n",
      "    Completed...\n",
      "Iteration 15 :\n",
      "    Fitting...\n",
      "    Evaluating...\n",
      "    Completed...\n"
     ]
    }
   ],
   "source": [
    "num_iter = 15\n",
    "metrics = []\n",
    "iter_weights = []\n",
    "\n",
    "try:\n",
    "    for i in range(num_iter):\n",
    "        print('Iteration',i+1,':')\n",
    "        print('    Fitting...')\n",
    "        ## Get L1 Assignments\n",
    "        shdc.fit_L1(X)\n",
    "        ## Get L2 Assignments\n",
    "        shdc.fit_L2(X)\n",
    "\n",
    "        ## Get Weights\n",
    "        topic_seeds = copy.deepcopy(shdc.topic_seeds)\n",
    "        topic_distance_threshold = copy.deepcopy(shdc.topic_distance_threshold)\n",
    "        topic_seeds_updated = copy.deepcopy(shdc.topic_seeds_updated)\n",
    "        topic_distance_threshold_updated = copy.deepcopy(shdc.topic_distance_threshold_updated)\n",
    "\n",
    "        iter_weights.append(\n",
    "            (topic_seeds, topic_distance_threshold)\n",
    "        )\n",
    "\n",
    "        ## Evaluate\n",
    "        print('    Evaluating...')\n",
    "        metr = eval(topic_seeds, shdc.topics_points_hierarchical, shdc.topics_points_distances_hierarchical, shdc.sub_topics_points_distances)\n",
    "        metrics.append(metr)\n",
    "\n",
    "        ## Iterate\n",
    "        shdc.topic_seeds = shdc.topic_seeds_updated\n",
    "        main_topic_weight += 1    # increasing weight\n",
    "        shdc.main_topic_weight = main_topic_weight\n",
    "\n",
    "        print('    Completed...')\n",
    "except:\n",
    "    pass"
   ]
  },
  {
   "cell_type": "markdown",
   "id": "fa8b8251-719c-4c13-bde6-4b8e9e845efd",
   "metadata": {},
   "source": [
    "### Plot"
   ]
  },
  {
   "cell_type": "code",
   "execution_count": 12,
   "id": "29406bba-49ac-4634-9af1-c89904bf5b72",
   "metadata": {
    "jupyter": {
     "source_hidden": true
    },
    "tags": []
   },
   "outputs": [],
   "source": [
    "homogeneity_l1 = []\n",
    "completeness_l1 = []\n",
    "v_measure_l1 = []\n",
    "homogeneity_l2 = []\n",
    "completeness_l2 = []\n",
    "v_measure_l2 = []\n",
    "homogeneity_l3 = []\n",
    "completeness_l3 = []\n",
    "v_measure_l3 = []\n",
    "precision_l1 = []\n",
    "recall_l1 = []\n",
    "fscore_l1 = []\n",
    "precision_l2 = []\n",
    "recall_l2 = []\n",
    "fscore_l2 = []\n",
    "precision_l3 = []\n",
    "recall_l3 = []\n",
    "fscore_l3 = []\n",
    "accuracy_l1 = []\n",
    "accuracy_l2 = []\n",
    "accuracy_l3 = []\n",
    "\n",
    "for m in metrics:\n",
    "    homogeneity_l1.append(m['L1']['homogeneity'])\n",
    "    completeness_l1.append(m['L1']['completeness'])\n",
    "    v_measure_l1.append(m['L1']['v_measure'])\n",
    "    homogeneity_l2.append(m['L2']['homogeneity'])\n",
    "    completeness_l2.append(m['L2']['completeness'])\n",
    "    v_measure_l2.append(m['L2']['v_measure'])\n",
    "    homogeneity_l3.append(m['L3']['homogeneity'])\n",
    "    completeness_l3.append(m['L3']['completeness'])\n",
    "    v_measure_l3.append(m['L3']['v_measure'])\n",
    "    precision_l1.append(m['L1']['precision'])\n",
    "    recall_l1.append(m['L1']['recall'])\n",
    "    fscore_l1.append(m['L1']['fscore'])\n",
    "    precision_l2.append(m['L2']['precision'])\n",
    "    recall_l2.append(m['L2']['recall'])\n",
    "    fscore_l2.append(m['L2']['fscore'])\n",
    "    precision_l3.append(m['L3']['precision'])\n",
    "    recall_l3.append(m['L3']['recall'])\n",
    "    fscore_l3.append(m['L3']['fscore'])\n",
    "    accuracy_l1.append(m['L1']['accuracy'])\n",
    "    accuracy_l2.append(m['L2']['accuracy'])\n",
    "    accuracy_l3.append(m['L3']['accuracy'])"
   ]
  },
  {
   "cell_type": "code",
   "execution_count": 13,
   "id": "5cc4d7a1-1d34-42e2-8a96-ab94cdb505c0",
   "metadata": {},
   "outputs": [
    {
     "data": {
      "image/png": "[encoded data removed]",
      "text/plain": [
       "<Figure size 1008x576 with 1 Axes>"
      ]
     },
     "metadata": {
      "needs_background": "light"
     },
     "output_type": "display_data"
    }
   ],
   "source": [
    "plt.plot(homogeneity_l1, label='L1 homogenity', c='r', ls='--')\n",
    "plt.plot(completeness_l1, label='L1 completeness', c='g', ls='--')\n",
    "plt.plot(v_measure_l1, label='L1 v_measure', c='b', ls='--')\n",
    "\n",
    "plt.plot(homogeneity_l2, label='L2 homogenity', c='r', ls=':')\n",
    "plt.plot(completeness_l2, label='L2 completeness', c='g', ls=':')\n",
    "plt.plot(v_measure_l2, label='L2 v_measure', c='b', ls=':')\n",
    "\n",
    "plt.plot(homogeneity_l3, label='L3 homogenity', c='r', ls='-')\n",
    "plt.plot(completeness_l3, label='L3 completeness', c='g', ls='-')\n",
    "plt.plot(v_measure_l3, label='L3 v_measure', c='b', ls='-')\n",
    "\n",
    "\n",
    "plt.plot(precision_l1, label='L1 precision', c='c', ls='--')\n",
    "plt.plot(recall_l1, label='L1 recall', c='y', ls='--')\n",
    "plt.plot(fscore_l1, label='L1 fscore', c='k', ls='--')\n",
    "\n",
    "plt.plot(precision_l2, label='L2 precision', c='c', ls=':')\n",
    "plt.plot(recall_l2, label='L2 recall', c='y', ls=':')\n",
    "plt.plot(fscore_l2, label='L2 fscore', c='k', ls=':')\n",
    "\n",
    "plt.plot(precision_l3, label='L3 precision', c='c', ls='-')\n",
    "plt.plot(recall_l3, label='L3 recall', c='y', ls='-')\n",
    "plt.plot(fscore_l3, label='L3 fscore', c='k', ls='-')\n",
    "\n",
    "plt.legend(loc='center right', bbox_to_anchor=(1.17, 0.5))\n",
    "x = list(range(1,len(accuracy_l1)+1))\n",
    "plt.xticks(list(range(len(x))), x)\n",
    "plt.xlabel('iterations')\n",
    "plt.ylabel('metric')\n",
    "\n",
    "plt.gcf().set_size_inches(14, 8)\n",
    "\n",
    "plt.show()"
   ]
  },
  {
   "cell_type": "markdown",
   "id": "32da4f7c-cdc7-4d97-ac1d-58f53c9d4bd8",
   "metadata": {},
   "source": [
    "### Select Best Weights"
   ]
  },
  {
   "cell_type": "code",
   "execution_count": 14,
   "id": "c48e3bd7-40bf-46df-a635-3218948ff02c",
   "metadata": {},
   "outputs": [],
   "source": [
    "best_iter = 1\n",
    "\n",
    "best_topic_seeds, best_topic_distance_threshold = iter_weights[best_iter-1]"
   ]
  },
  {
   "cell_type": "markdown",
   "id": "566d878d-c277-4ee5-9a40-2f480b994939",
   "metadata": {},
   "source": [
    "### Write Learnt Threshold to file"
   ]
  },
  {
   "cell_type": "code",
   "execution_count": 15,
   "id": "e11c2881-90e4-419f-95ed-e916b68be432",
   "metadata": {},
   "outputs": [],
   "source": [
    "topic_distance_threshold_file = '../model/'+dataset_name+'/topic_distance_threshold.pkl'\n",
    "pickle.dump(best_topic_distance_threshold, open(topic_distance_threshold_file, \"wb\"))"
   ]
  },
  {
   "cell_type": "markdown",
   "id": "0fa72e9c-b326-42c2-9389-c94ecb3c0edc",
   "metadata": {},
   "source": [
    "### Write Learnt Seeds to file"
   ]
  },
  {
   "cell_type": "code",
   "execution_count": 16,
   "id": "47cdcb94-d114-48b7-9bf0-0572b1ab8efd",
   "metadata": {},
   "outputs": [],
   "source": [
    "topic_seed_file ='../model/'+dataset_name+'/cluster_hierarchy_seed_embeddings-roberta-'+method+'.pkl'\n",
    "pickle.dump(best_topic_seeds, open(topic_seed_file, \"wb\"))"
   ]
  },
  {
   "cell_type": "markdown",
   "id": "4f78da47-1697-4ee7-b136-917dbb8d0342",
   "metadata": {},
   "source": [
    "### Write Model Parameters"
   ]
  },
  {
   "cell_type": "code",
   "execution_count": 17,
   "id": "e56676fd-cb50-4431-bf1d-28b3d2d29ada",
   "metadata": {},
   "outputs": [],
   "source": [
    "params = {\n",
    "    \"main_topic_update_method\": main_topic_update_method,\n",
    "    \"main_topic_weight\": main_topic_weight,\n",
    "    \"init_neighbors_perc\": init_neighbors_perc,\n",
    "    \"create_other_main\": create_other_main,\n",
    "    \"create_other_sub\": create_other_sub,\n",
    "    \"best_iter\":best_iter\n",
    "}"
   ]
  },
  {
   "cell_type": "code",
   "execution_count": 18,
   "id": "75e225ee-751c-4a65-8e80-d444253b3293",
   "metadata": {},
   "outputs": [],
   "source": [
    "model_parameters_file = '../model/'+dataset_name+'/model_parameters.pkl'\n",
    "pickle.dump(params, open(model_parameters_file, \"wb\"))"
   ]
  },
  {
   "cell_type": "code",
   "execution_count": null,
   "id": "04464536-162b-4ec4-9803-a1ed6c88d087",
   "metadata": {},
   "outputs": [],
   "source": []
  },
  {
   "cell_type": "code",
   "execution_count": 19,
   "id": "cf415b93-aaae-45e7-9a9a-40a30e5e06e6",
   "metadata": {},
   "outputs": [
    {
     "data": {
      "text/plain": [
       "('../model/wos46985/model_parameters.pkl',\n",
       " '../model/wos46985/cluster_hierarchy_seed_embeddings-roberta-pool.pkl',\n",
       " '../model/wos46985/topic_distance_threshold.pkl')"
      ]
     },
     "execution_count": 19,
     "metadata": {},
     "output_type": "execute_result"
    }
   ],
   "source": [
    "model_parameters_file, topic_seed_file, topic_distance_threshold_file"
   ]
  },
  {
   "cell_type": "code",
   "execution_count": null,
   "id": "8ad3c835-a5fd-40e2-b6c6-801ae98f3854",
   "metadata": {},
   "outputs": [],
   "source": []
  }
 ],
 "metadata": {
  "kernelspec": {
   "display_name": "Python 3",
   "language": "python",
   "name": "python3"
  },
  "language_info": {
   "codemirror_mode": {
    "name": "ipython",
    "version": 3
   },
   "file_extension": ".py",
   "mimetype": "text/x-python",
   "name": "python",
   "nbconvert_exporter": "python",
   "pygments_lexer": "ipython3",
   "version": "3.8.8"
  }
 },
 "nbformat": 4,
 "nbformat_minor": 5
}
