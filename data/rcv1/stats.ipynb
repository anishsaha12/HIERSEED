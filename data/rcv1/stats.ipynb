{
 "cells": [
  {
   "cell_type": "code",
   "execution_count": 4,
   "id": "2006c005-157b-4f14-8fd4-f187b4e5a5f8",
   "metadata": {},
   "outputs": [],
   "source": [
    "import pandas as pd\n",
    "import json"
   ]
  },
  {
   "cell_type": "code",
   "execution_count": 7,
   "id": "2d5ac2f2-7ba3-47f4-a39d-a7183e10ece2",
   "metadata": {},
   "outputs": [],
   "source": [
    "taxonomy_info = json.load(open('../../SHDC/data/rcv1/taxonomy_3_level_info_file.json'))\n",
    "def get_topic_level(topic):\n",
    "    if topic in taxonomy_info['level_1']:\n",
    "        return 1\n",
    "    elif topic in taxonomy_info['level_2']:\n",
    "        return 2\n",
    "    elif topic in taxonomy_info['level_3']:\n",
    "        return 3\n",
    "    else:\n",
    "        return 4"
   ]
  },
  {
   "cell_type": "code",
   "execution_count": 2,
   "id": "3d637ed7-ac13-496f-addb-32f1f823f104",
   "metadata": {},
   "outputs": [],
   "source": [
    "df = pd.read_csv('rcv1_v2.csv')[['id','topics']]\n",
    "df.topics = df.topics.apply(lambda x: eval(x))"
   ]
  },
  {
   "cell_type": "code",
   "execution_count": 15,
   "id": "74a0add6-82c3-4f71-9fb2-1182bad38352",
   "metadata": {},
   "outputs": [],
   "source": [
    "df = df.explode('topics')"
   ]
  },
  {
   "cell_type": "code",
   "execution_count": null,
   "id": "3ac39d0c-d2e0-4887-b5a3-b9cbffb3b5ad",
   "metadata": {},
   "outputs": [],
   "source": [
    "topic_docs = df.groupby(\n",
    "    'topics'\n",
    ")['id'].unique(\n",
    ").reset_index(\n",
    ")\n",
    "topic_docs['num_docs'] = topic_docs.id.str.len()\n",
    "topic_docs['topic_level'] = topic_docs.topics.apply(lambda x: get_topic_level(x))"
   ]
  },
  {
   "cell_type": "code",
   "execution_count": 18,
   "id": "423841f4-daee-489d-bb61-c9184a3285b8",
   "metadata": {},
   "outputs": [
    {
     "data": {
      "text/html": [
       "<div>\n",
       "<style scoped>\n",
       "    .dataframe tbody tr th:only-of-type {\n",
       "        vertical-align: middle;\n",
       "    }\n",
       "\n",
       "    .dataframe tbody tr th {\n",
       "        vertical-align: top;\n",
       "    }\n",
       "\n",
       "    .dataframe thead th {\n",
       "        text-align: right;\n",
       "    }\n",
       "</style>\n",
       "<table border=\"1\" class=\"dataframe\">\n",
       "  <thead>\n",
       "    <tr style=\"text-align: right;\">\n",
       "      <th></th>\n",
       "      <th>topic_level</th>\n",
       "      <th>num_docs</th>\n",
       "    </tr>\n",
       "  </thead>\n",
       "  <tbody>\n",
       "    <tr>\n",
       "      <th>0</th>\n",
       "      <td>1</td>\n",
       "      <td>222043.5</td>\n",
       "    </tr>\n",
       "    <tr>\n",
       "      <th>1</th>\n",
       "      <td>2</td>\n",
       "      <td>11355.0</td>\n",
       "    </tr>\n",
       "    <tr>\n",
       "      <th>2</th>\n",
       "      <td>3</td>\n",
       "      <td>4299.0</td>\n",
       "    </tr>\n",
       "    <tr>\n",
       "      <th>3</th>\n",
       "      <td>4</td>\n",
       "      <td>23211.0</td>\n",
       "    </tr>\n",
       "  </tbody>\n",
       "</table>\n",
       "</div>"
      ],
      "text/plain": [
       "   topic_level  num_docs\n",
       "0            1  222043.5\n",
       "1            2   11355.0\n",
       "2            3    4299.0\n",
       "3            4   23211.0"
      ]
     },
     "execution_count": 18,
     "metadata": {},
     "output_type": "execute_result"
    }
   ],
   "source": [
    "topic_docs.groupby(\n",
    "    'topic_level'\n",
    ")['num_docs'].median(\n",
    ").reset_index(\n",
    ")"
   ]
  },
  {
   "cell_type": "code",
   "execution_count": null,
   "id": "85e2c1ef-876b-4819-9487-bc17c7dab9af",
   "metadata": {},
   "outputs": [],
   "source": []
  }
 ],
 "metadata": {
  "kernelspec": {
   "display_name": "Python 3",
   "language": "python",
   "name": "python3"
  },
  "language_info": {
   "codemirror_mode": {
    "name": "ipython",
    "version": 3
   },
   "file_extension": ".py",
   "mimetype": "text/x-python",
   "name": "python",
   "nbconvert_exporter": "python",
   "pygments_lexer": "ipython3",
   "version": "3.8.8"
  }
 },
 "nbformat": 4,
 "nbformat_minor": 5
}
