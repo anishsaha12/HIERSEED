{
 "cells": [
  {
   "cell_type": "code",
   "execution_count": 1,
   "id": "9974d0eb-d6b1-4296-88ac-9f58272f88de",
   "metadata": {},
   "outputs": [],
   "source": [
    "import pandas as pd"
   ]
  },
  {
   "cell_type": "code",
   "execution_count": 2,
   "id": "a0f6f9e7-c235-47ee-8659-c87b0dcdedca",
   "metadata": {},
   "outputs": [],
   "source": [
    "df = pd.read_csv('Meta-data/Data.csv')"
   ]
  },
  {
   "cell_type": "code",
   "execution_count": 10,
   "id": "b9d19c00-22fa-4343-8c2e-0cd37b099fac",
   "metadata": {},
   "outputs": [],
   "source": [
    "df.Y2 = df.apply(lambda x: str(x.Y1)+'/'+str(x.Y2), axis=1)"
   ]
  },
  {
   "cell_type": "code",
   "execution_count": 14,
   "id": "2821e121-14ed-4534-ad9a-f45e7a7b341f",
   "metadata": {},
   "outputs": [
    {
     "data": {
      "text/html": [
       "<div>\n",
       "<style scoped>\n",
       "    .dataframe tbody tr th:only-of-type {\n",
       "        vertical-align: middle;\n",
       "    }\n",
       "\n",
       "    .dataframe tbody tr th {\n",
       "        vertical-align: top;\n",
       "    }\n",
       "\n",
       "    .dataframe thead th {\n",
       "        text-align: right;\n",
       "    }\n",
       "</style>\n",
       "<table border=\"1\" class=\"dataframe\">\n",
       "  <thead>\n",
       "    <tr style=\"text-align: right;\">\n",
       "      <th></th>\n",
       "      <th>Y1</th>\n",
       "      <th>Abstract</th>\n",
       "      <th>num_docs</th>\n",
       "    </tr>\n",
       "  </thead>\n",
       "  <tbody>\n",
       "    <tr>\n",
       "      <th>0</th>\n",
       "      <td>0</td>\n",
       "      <td>[\"(2 + 1)-dimensional non-linear optical waves...</td>\n",
       "      <td>6514</td>\n",
       "    </tr>\n",
       "    <tr>\n",
       "      <th>1</th>\n",
       "      <td>1</td>\n",
       "      <td>[\"(Hybrid) electric vehicles are assumed to pl...</td>\n",
       "      <td>5483</td>\n",
       "    </tr>\n",
       "    <tr>\n",
       "      <th>2</th>\n",
       "      <td>2</td>\n",
       "      <td>[\", while ghrelin cells were the most numerous...</td>\n",
       "      <td>7142</td>\n",
       "    </tr>\n",
       "    <tr>\n",
       "      <th>3</th>\n",
       "      <td>3</td>\n",
       "      <td>[\"(We develop a generalised unsteady plume the...</td>\n",
       "      <td>3297</td>\n",
       "    </tr>\n",
       "    <tr>\n",
       "      <th>4</th>\n",
       "      <td>4</td>\n",
       "      <td>[\"(D)ecreasing of energy consumption and envir...</td>\n",
       "      <td>4237</td>\n",
       "    </tr>\n",
       "    <tr>\n",
       "      <th>5</th>\n",
       "      <td>5</td>\n",
       "      <td>[\"(beta-amyloid (A beta) and tau pathology bec...</td>\n",
       "      <td>14625</td>\n",
       "    </tr>\n",
       "    <tr>\n",
       "      <th>6</th>\n",
       "      <td>6</td>\n",
       "      <td>[\"(R)ecent advances in deep brain stimulators ...</td>\n",
       "      <td>5687</td>\n",
       "    </tr>\n",
       "  </tbody>\n",
       "</table>\n",
       "</div>"
      ],
      "text/plain": [
       "   Y1                                           Abstract  num_docs\n",
       "0   0  [\"(2 + 1)-dimensional non-linear optical waves...      6514\n",
       "1   1  [\"(Hybrid) electric vehicles are assumed to pl...      5483\n",
       "2   2  [\", while ghrelin cells were the most numerous...      7142\n",
       "3   3  [\"(We develop a generalised unsteady plume the...      3297\n",
       "4   4  [\"(D)ecreasing of energy consumption and envir...      4237\n",
       "5   5  [\"(beta-amyloid (A beta) and tau pathology bec...     14625\n",
       "6   6  [\"(R)ecent advances in deep brain stimulators ...      5687"
      ]
     },
     "execution_count": 14,
     "metadata": {},
     "output_type": "execute_result"
    }
   ],
   "source": [
    "L1_topic_doc = df.groupby(\n",
    "    'Y1'\n",
    ")['Abstract'].unique(\n",
    ").reset_index(\n",
    ")\n",
    "L1_topic_doc['num_docs'] = L1_topic_doc.Abstract.str.len()\n",
    "L1_topic_doc"
   ]
  },
  {
   "cell_type": "code",
   "execution_count": 15,
   "id": "e10cbc1e-a653-4fec-bd59-bdeb22f9a09e",
   "metadata": {},
   "outputs": [
    {
     "data": {
      "text/html": [
       "<div>\n",
       "<style scoped>\n",
       "    .dataframe tbody tr th:only-of-type {\n",
       "        vertical-align: middle;\n",
       "    }\n",
       "\n",
       "    .dataframe tbody tr th {\n",
       "        vertical-align: top;\n",
       "    }\n",
       "\n",
       "    .dataframe thead th {\n",
       "        text-align: right;\n",
       "    }\n",
       "</style>\n",
       "<table border=\"1\" class=\"dataframe\">\n",
       "  <thead>\n",
       "    <tr style=\"text-align: right;\">\n",
       "      <th></th>\n",
       "      <th>Y2</th>\n",
       "      <th>Abstract</th>\n",
       "      <th>num_docs</th>\n",
       "    </tr>\n",
       "  </thead>\n",
       "  <tbody>\n",
       "    <tr>\n",
       "      <th>0</th>\n",
       "      <td>0/0</td>\n",
       "      <td>[\"(Objective) In order to increase classificat...</td>\n",
       "      <td>432</td>\n",
       "    </tr>\n",
       "    <tr>\n",
       "      <th>1</th>\n",
       "      <td>0/1</td>\n",
       "      <td>[\"1. Species distribution modelling can be use...</td>\n",
       "      <td>398</td>\n",
       "    </tr>\n",
       "    <tr>\n",
       "      <th>2</th>\n",
       "      <td>0/10</td>\n",
       "      <td>[\"A (beta, epsilon)-hopset for a weighted undi...</td>\n",
       "      <td>403</td>\n",
       "    </tr>\n",
       "    <tr>\n",
       "      <th>3</th>\n",
       "      <td>0/11</td>\n",
       "      <td>[\"Background: Phenotypic data are routinely us...</td>\n",
       "      <td>43</td>\n",
       "    </tr>\n",
       "    <tr>\n",
       "      <th>4</th>\n",
       "      <td>0/12</td>\n",
       "      <td>[\"(2 + 1)-dimensional non-linear optical waves...</td>\n",
       "      <td>402</td>\n",
       "    </tr>\n",
       "    <tr>\n",
       "      <th>...</th>\n",
       "      <td>...</td>\n",
       "      <td>...</td>\n",
       "      <td>...</td>\n",
       "    </tr>\n",
       "    <tr>\n",
       "      <th>128</th>\n",
       "      <td>6/4</td>\n",
       "      <td>[\"1. Individual plant genotypes as well as gen...</td>\n",
       "      <td>566</td>\n",
       "    </tr>\n",
       "    <tr>\n",
       "      <th>129</th>\n",
       "      <td>6/5</td>\n",
       "      <td>[\". Background: A key feature of factorIXa is ...</td>\n",
       "      <td>576</td>\n",
       "    </tr>\n",
       "    <tr>\n",
       "      <th>130</th>\n",
       "      <td>6/6</td>\n",
       "      <td>[\"1,2-Dichloropropane (1,2-DCP) and dichlorome...</td>\n",
       "      <td>750</td>\n",
       "    </tr>\n",
       "    <tr>\n",
       "      <th>131</th>\n",
       "      <td>6/7</td>\n",
       "      <td>[\"[Objective] To investigate the effect of cor...</td>\n",
       "      <td>699</td>\n",
       "    </tr>\n",
       "    <tr>\n",
       "      <th>132</th>\n",
       "      <td>6/8</td>\n",
       "      <td>[\". Haemophilia A (HA) is caused by widespread...</td>\n",
       "      <td>510</td>\n",
       "    </tr>\n",
       "  </tbody>\n",
       "</table>\n",
       "<p>133 rows × 3 columns</p>\n",
       "</div>"
      ],
      "text/plain": [
       "       Y2                                           Abstract  num_docs\n",
       "0     0/0  [\"(Objective) In order to increase classificat...       432\n",
       "1     0/1  [\"1. Species distribution modelling can be use...       398\n",
       "2    0/10  [\"A (beta, epsilon)-hopset for a weighted undi...       403\n",
       "3    0/11  [\"Background: Phenotypic data are routinely us...        43\n",
       "4    0/12  [\"(2 + 1)-dimensional non-linear optical waves...       402\n",
       "..    ...                                                ...       ...\n",
       "128   6/4  [\"1. Individual plant genotypes as well as gen...       566\n",
       "129   6/5  [\". Background: A key feature of factorIXa is ...       576\n",
       "130   6/6  [\"1,2-Dichloropropane (1,2-DCP) and dichlorome...       750\n",
       "131   6/7  [\"[Objective] To investigate the effect of cor...       699\n",
       "132   6/8  [\". Haemophilia A (HA) is caused by widespread...       510\n",
       "\n",
       "[133 rows x 3 columns]"
      ]
     },
     "execution_count": 15,
     "metadata": {},
     "output_type": "execute_result"
    }
   ],
   "source": [
    "L2_topic_doc = df.groupby(\n",
    "    'Y2'\n",
    ")['Abstract'].unique(\n",
    ").reset_index(\n",
    ")\n",
    "L2_topic_doc['num_docs'] = L2_topic_doc.Abstract.str.len()\n",
    "L2_topic_doc"
   ]
  },
  {
   "cell_type": "code",
   "execution_count": 16,
   "id": "e6066621-08d5-4f69-b528-ff784eb62124",
   "metadata": {},
   "outputs": [
    {
     "data": {
      "text/plain": [
       "5687.0"
      ]
     },
     "execution_count": 16,
     "metadata": {},
     "output_type": "execute_result"
    }
   ],
   "source": [
    "L1_topic_doc.num_docs.median()"
   ]
  },
  {
   "cell_type": "code",
   "execution_count": 17,
   "id": "472f954d-6670-423e-949e-32da76aa9e19",
   "metadata": {},
   "outputs": [
    {
     "data": {
      "text/plain": [
       "365.0"
      ]
     },
     "execution_count": 17,
     "metadata": {},
     "output_type": "execute_result"
    }
   ],
   "source": [
    "L2_topic_doc.num_docs.median()"
   ]
  },
  {
   "cell_type": "code",
   "execution_count": null,
   "id": "09acaadb-1ee8-453c-86e9-fbb1b9af1470",
   "metadata": {},
   "outputs": [],
   "source": []
  }
 ],
 "metadata": {
  "kernelspec": {
   "display_name": "Python 3",
   "language": "python",
   "name": "python3"
  },
  "language_info": {
   "codemirror_mode": {
    "name": "ipython",
    "version": 3
   },
   "file_extension": ".py",
   "mimetype": "text/x-python",
   "name": "python",
   "nbconvert_exporter": "python",
   "pygments_lexer": "ipython3",
   "version": "3.8.8"
  }
 },
 "nbformat": 4,
 "nbformat_minor": 5
}
