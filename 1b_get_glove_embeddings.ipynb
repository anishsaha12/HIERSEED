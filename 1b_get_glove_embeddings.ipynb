{
 "cells": [
  {
   "cell_type": "code",
   "execution_count": 1,
   "id": "3a0d5254-cdc4-49af-a0cf-44ee33f52e31",
   "metadata": {},
   "outputs": [],
   "source": [
    "# !pip install transformers emoji nltk\n",
    "\n",
    "# import packages\n",
    "import pickle\n",
    "import os\n",
    "import json\n",
    "import numpy as np\n",
    "import pandas as pd\n",
    "import re\n",
    "import time\n",
    "from multiprocessing import Pool"
   ]
  },
  {
   "cell_type": "code",
   "execution_count": 2,
   "id": "a73418e2-98e5-4cd9-ad12-6cb22c567602",
   "metadata": {},
   "outputs": [
    {
     "name": "stdout",
     "output_type": "stream",
     "text": [
      "../../glove/glove.6B.300d.txt\n",
      "Total 400000 word vectors.\n"
     ]
    }
   ],
   "source": [
    "GLOVE_DIR = '../../glove'\n",
    "Glove_path = os.path.join(GLOVE_DIR, 'glove.6B.300d.txt')\n",
    "print(Glove_path)\n",
    "\n",
    "embeddings_index = dict()\n",
    "f = open(Glove_path, encoding=\"utf8\")\n",
    "for line in f:\n",
    "    values = line.split()\n",
    "    word = values[0]\n",
    "    try:\n",
    "        coefs = np.asarray(values[1:], dtype='float32')\n",
    "    except:\n",
    "        print(\"Warnning\"+str(values)+\" in\" + str(line))\n",
    "    embeddings_index[word] = coefs\n",
    "f.close()\n",
    "print('Total %s word vectors.' % len(embeddings_index))"
   ]
  },
  {
   "cell_type": "code",
   "execution_count": 8,
   "id": "b382ec41-d65c-4f75-ae30-0a78362110ac",
   "metadata": {},
   "outputs": [],
   "source": [
    "dataset_name = 'wos46985'\n",
    "base_dir = '../../data/WOS/'\n",
    "data_file = base_dir+'Meta-data/Data.csv'"
   ]
  },
  {
   "cell_type": "code",
   "execution_count": 9,
   "id": "3b8a8447-f359-43d3-b20c-3b74ad2a75af",
   "metadata": {},
   "outputs": [
    {
     "name": "stdout",
     "output_type": "stream",
     "text": [
      "Num Data: 46985\n"
     ]
    }
   ],
   "source": [
    "df = pd.read_csv(data_file)\n",
    "print('Num Data:',len(df))"
   ]
  },
  {
   "cell_type": "code",
   "execution_count": 10,
   "id": "fa08f0b6-2b8b-49e4-8572-69ff012e4170",
   "metadata": {},
   "outputs": [
    {
     "data": {
      "text/html": [
       "<div>\n",
       "<style scoped>\n",
       "    .dataframe tbody tr th:only-of-type {\n",
       "        vertical-align: middle;\n",
       "    }\n",
       "\n",
       "    .dataframe tbody tr th {\n",
       "        vertical-align: top;\n",
       "    }\n",
       "\n",
       "    .dataframe thead th {\n",
       "        text-align: right;\n",
       "    }\n",
       "</style>\n",
       "<table border=\"1\" class=\"dataframe\">\n",
       "  <thead>\n",
       "    <tr style=\"text-align: right;\">\n",
       "      <th></th>\n",
       "      <th>Y1</th>\n",
       "      <th>Y2</th>\n",
       "      <th>Y</th>\n",
       "      <th>Domain</th>\n",
       "      <th>area</th>\n",
       "      <th>keywords</th>\n",
       "      <th>Abstract</th>\n",
       "    </tr>\n",
       "  </thead>\n",
       "  <tbody>\n",
       "    <tr>\n",
       "      <th>0</th>\n",
       "      <td>0</td>\n",
       "      <td>12</td>\n",
       "      <td>12</td>\n",
       "      <td>CS</td>\n",
       "      <td>Symbolic computation</td>\n",
       "      <td>(2+1)-dimensional non-linear optical waves; e...</td>\n",
       "      <td>\"(2 + 1)-dimensional non-linear optical waves ...</td>\n",
       "    </tr>\n",
       "    <tr>\n",
       "      <th>1</th>\n",
       "      <td>5</td>\n",
       "      <td>2</td>\n",
       "      <td>74</td>\n",
       "      <td>Medical</td>\n",
       "      <td>Alzheimer's Disease</td>\n",
       "      <td>Aging; Tau; Amyloid; PET; Alzheimer's disease...</td>\n",
       "      <td>\"(beta-amyloid (A beta) and tau pathology beco...</td>\n",
       "    </tr>\n",
       "  </tbody>\n",
       "</table>\n",
       "</div>"
      ],
      "text/plain": [
       "   Y1  Y2   Y    Domain                     area  \\\n",
       "0   0  12  12       CS    Symbolic computation     \n",
       "1   5   2  74  Medical     Alzheimer's Disease     \n",
       "\n",
       "                                            keywords  \\\n",
       "0   (2+1)-dimensional non-linear optical waves; e...   \n",
       "1   Aging; Tau; Amyloid; PET; Alzheimer's disease...   \n",
       "\n",
       "                                            Abstract  \n",
       "0  \"(2 + 1)-dimensional non-linear optical waves ...  \n",
       "1  \"(beta-amyloid (A beta) and tau pathology beco...  "
      ]
     },
     "execution_count": 10,
     "metadata": {},
     "output_type": "execute_result"
    }
   ],
   "source": [
    "df.head(2)"
   ]
  },
  {
   "cell_type": "code",
   "execution_count": 34,
   "id": "ea5cd35c-91c4-4a1e-a592-bea089cbeebe",
   "metadata": {},
   "outputs": [],
   "source": [
    "def clean_str(string):\n",
    "    string = re.sub(r\"[^A-Za-z0-9(),!?\\'\\`]\", \" \", string)\n",
    "    string = re.sub(r\"\\'s\", \" \\'s\", string)\n",
    "    string = re.sub(r\"\\'ve\", \" \\'ve\", string)\n",
    "    string = re.sub(r\"n\\'t\", \" n\\'t\", string)\n",
    "    string = re.sub(r\"\\'re\", \" \\'re\", string)\n",
    "    string = re.sub(r\"\\'d\", \" \\'d\", string)\n",
    "    string = re.sub(r\"\\'ll\", \" \\'ll\", string)\n",
    "    string = re.sub(r\",\", \" , \", string)\n",
    "    string = re.sub(r\"!\", \" ! \", string)\n",
    "    string = re.sub(r\"\\(\", \" \\( \", string)\n",
    "    string = re.sub(r\"\\)\", \" \\) \", string)\n",
    "    string = re.sub(r\"\\?\", \" \\? \", string)\n",
    "    string = re.sub(r\"\\s{2,}\", \" \", string)\n",
    "    return string.strip().lower()\n",
    "\n",
    "def get_glove_embeddings(texts, method = 'pool'):\n",
    "    output_reps_pool = []\n",
    "\n",
    "    for step,text in enumerate(texts):\n",
    "        # progress update after every 1000 texts.\n",
    "        if step % 1000 == 0 and not step == 0:\n",
    "            print('  Batch {:>5,}  of  {:>5,}.'.format(step, len(texts)))\n",
    "\n",
    "        base_output = []\n",
    "        for word in text.split():\n",
    "            try:\n",
    "                base_output.append(embeddings_index[word])\n",
    "            except:\n",
    "                pass\n",
    "        \n",
    "        if len(base_output)>0:\n",
    "            if method=='pool':\n",
    "                # Mean Pool\n",
    "                output_representation = np.mean(base_output, axis=0)\n",
    "            elif method=='cls':\n",
    "                output_representation = base_output[0]\n",
    "            output_reps_pool.append(output_representation)\n",
    "        else:\n",
    "            output_reps_pool.append(np.zeros(embeddings_index['a'].shape))\n",
    "        \n",
    "    output_reps_df = np.vstack(output_reps_pool)\n",
    "    print('Embeddings Shape:',output_reps_df.shape)\n",
    "    \n",
    "    return output_reps_df"
   ]
  },
  {
   "cell_type": "code",
   "execution_count": 35,
   "id": "548bc953-a32a-433b-a9f3-ad71d49652de",
   "metadata": {},
   "outputs": [],
   "source": [
    "method = 'pool'\n",
    "text_embedding_dir = '../data/'+dataset_name"
   ]
  },
  {
   "cell_type": "code",
   "execution_count": 36,
   "id": "f4de7aaf-3d2a-499c-96f5-d4bb0c70aecb",
   "metadata": {
    "scrolled": true,
    "tags": []
   },
   "outputs": [
    {
     "name": "stdout",
     "output_type": "stream",
     "text": [
      "  Batch 1,000  of  46,985.\n",
      "  Batch 2,000  of  46,985.\n",
      "  Batch 3,000  of  46,985.\n",
      "  Batch 4,000  of  46,985.\n",
      "  Batch 5,000  of  46,985.\n",
      "  Batch 6,000  of  46,985.\n",
      "  Batch 7,000  of  46,985.\n",
      "  Batch 8,000  of  46,985.\n",
      "  Batch 9,000  of  46,985.\n",
      "  Batch 10,000  of  46,985.\n",
      "  Batch 11,000  of  46,985.\n",
      "  Batch 12,000  of  46,985.\n",
      "  Batch 13,000  of  46,985.\n",
      "  Batch 14,000  of  46,985.\n",
      "  Batch 15,000  of  46,985.\n",
      "  Batch 16,000  of  46,985.\n",
      "  Batch 17,000  of  46,985.\n",
      "  Batch 18,000  of  46,985.\n",
      "  Batch 19,000  of  46,985.\n",
      "  Batch 20,000  of  46,985.\n",
      "  Batch 21,000  of  46,985.\n",
      "  Batch 22,000  of  46,985.\n",
      "  Batch 23,000  of  46,985.\n",
      "  Batch 24,000  of  46,985.\n",
      "  Batch 25,000  of  46,985.\n",
      "  Batch 26,000  of  46,985.\n",
      "  Batch 27,000  of  46,985.\n",
      "  Batch 28,000  of  46,985.\n",
      "  Batch 29,000  of  46,985.\n",
      "  Batch 30,000  of  46,985.\n",
      "  Batch 31,000  of  46,985.\n",
      "  Batch 32,000  of  46,985.\n",
      "  Batch 33,000  of  46,985.\n",
      "  Batch 34,000  of  46,985.\n",
      "  Batch 35,000  of  46,985.\n",
      "  Batch 36,000  of  46,985.\n",
      "  Batch 37,000  of  46,985.\n",
      "  Batch 38,000  of  46,985.\n",
      "  Batch 39,000  of  46,985.\n",
      "  Batch 40,000  of  46,985.\n",
      "  Batch 41,000  of  46,985.\n",
      "  Batch 42,000  of  46,985.\n",
      "  Batch 43,000  of  46,985.\n",
      "  Batch 44,000  of  46,985.\n",
      "  Batch 45,000  of  46,985.\n",
      "  Batch 46,000  of  46,985.\n",
      "Embeddings Shape: (46985, 300)\n",
      "Saving Embeddings...\n"
     ]
    }
   ],
   "source": [
    "texts = df.Abstract.apply(clean_str).tolist()\n",
    "\n",
    "text_embeddings = get_glove_embeddings(texts, method)\n",
    "text_embedding_file = text_embedding_dir+'/glove300-embedding-'+method+'.pkl'\n",
    "\n",
    "if text_embeddings.shape[0] == len(texts):\n",
    "    print('Saving Embeddings...')\n",
    "    pickle.dump(text_embeddings, open(text_embedding_file, \"wb\"))"
   ]
  }
 ],
 "metadata": {
  "kernelspec": {
   "display_name": "Python 3",
   "language": "python",
   "name": "python3"
  },
  "language_info": {
   "codemirror_mode": {
    "name": "ipython",
    "version": 3
   },
   "file_extension": ".py",
   "mimetype": "text/x-python",
   "name": "python",
   "nbconvert_exporter": "python",
   "pygments_lexer": "ipython3",
   "version": "3.8.8"
  }
 },
 "nbformat": 4,
 "nbformat_minor": 5
}
