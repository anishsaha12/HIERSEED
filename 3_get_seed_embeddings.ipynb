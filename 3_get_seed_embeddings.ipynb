{
 "cells": [
  {
   "cell_type": "code",
   "execution_count": 1,
   "id": "9d575973-d14d-4e00-a114-abaf003a728b",
   "metadata": {},
   "outputs": [],
   "source": [
    "import json\n",
    "import pickle\n",
    "import numpy as np\n",
    "import pandas as pd"
   ]
  },
  {
   "cell_type": "code",
   "execution_count": 2,
   "id": "4fbf1783-3381-47c5-a826-2887560f20a6",
   "metadata": {},
   "outputs": [],
   "source": [
    "method = 'pool'\n",
    "embedding_type = 'roberta' # roberta, glove300, fastText\n",
    "\n",
    "dataset_name = 'wos46985'\n",
    "base_dir = '../../data/WOS/'\n",
    "data_file = base_dir+'Meta-data/Data.csv'\n",
    "\n",
    "text_embedding_dir = '../data/'+dataset_name\n",
    "text_embedding_file = text_embedding_dir+'/'+embedding_type+'-embedding-'+method+'.pkl'\n",
    "\n",
    "seed_indices_file = text_embedding_dir+'/seed_indices.json'\n",
    "remaining_indices_file = text_embedding_dir+'/remaining_indices.json'\n",
    "\n",
    "seed_embeddings_file = text_embedding_dir+'/cluster_hierarchy_seed_embeddings-roberta-'+method+'.pkl'"
   ]
  },
  {
   "cell_type": "code",
   "execution_count": 3,
   "id": "27040704-4f2d-4a3f-9f34-f8764377f337",
   "metadata": {},
   "outputs": [
    {
     "name": "stdout",
     "output_type": "stream",
     "text": [
      "(46985, 768)\n"
     ]
    }
   ],
   "source": [
    "text_embeddings = pickle.load(open(text_embedding_file, \"rb\"))\n",
    "print(text_embeddings.shape)\n",
    "\n",
    "with open(seed_indices_file, \"r\") as infile:\n",
    "    seeds = json.load(infile)"
   ]
  },
  {
   "cell_type": "code",
   "execution_count": 4,
   "id": "4e25e9bf-75cb-4355-a729-eeb71b270e6c",
   "metadata": {},
   "outputs": [],
   "source": [
    "def get_topic_seeds(seedTopics, topic_seeds={}, main_topic_update_method=1, main_topic_weight=3):\n",
    "    # Function to retrieve BERT embeddings from memory\n",
    "    def get_embedding_text(index):\n",
    "        topic_embedding = text_embeddings[index]\n",
    "        return topic_embedding\n",
    "\n",
    "    if include_sub_topics == True:\n",
    "        main_topics = list(seedTopics.keys())\n",
    "        topics = list(seedTopics.keys())\n",
    "\n",
    "        for topic in topics:\n",
    "            if topic not in topic_seeds.keys():\n",
    "                indices = seedTopics[topic]['indices']\n",
    "                topic_embedding = np.mean([get_embedding_text(ind) for ind in indices], axis=0)\n",
    "                topic_seeds[topic] = topic_embedding\n",
    "\n",
    "            try:\n",
    "                for sub_topic in list(seedTopics[topic]['sub-topic'].keys()):\n",
    "                    if topic+'/'+sub_topic not in topic_seeds.keys():\n",
    "                        indices = seedTopics[topic]['sub-topic'][sub_topic]['indices']\n",
    "                        topic_embedding = np.mean([get_embedding_text(ind) for ind in indices], axis=0)\n",
    "                        topic_seeds[topic+'/'+sub_topic] = topic_embedding\n",
    "\n",
    "                # Update topic embedding by taking mean of itself with all sub-topic embeddings\n",
    "                if main_topic_update_method == 1:\n",
    "                    topic_seeds[topic] = np.mean(\n",
    "                        [\n",
    "                          topic_seeds[topic+'/'+sub_topic] for sub_topic in list(seedTopics[topic]['sub-topic'].keys())\n",
    "                        ] + [topic_seeds[topic]]*main_topic_weight\n",
    "                        , axis=0\n",
    "                    )\n",
    "                elif main_topic_update_method == 2:\n",
    "                    topic_seeds[topic] = np.mean(\n",
    "                        [\n",
    "                            np.mean(\n",
    "                                [\n",
    "                                  topic_seeds[topic+'/'+sub_topic] for sub_topic in list(seedTopics[topic]['sub-topic'].keys())\n",
    "                                ]\n",
    "                                , axis=0\n",
    "                            )\n",
    "                        ]\n",
    "                        + [topic_seeds[topic]]*main_topic_weight\n",
    "                        , axis=0\n",
    "                    )\n",
    "                elif main_topic_update_method == 3:\n",
    "                    topic_seeds[topic] = np.mean(\n",
    "                        [\n",
    "                            np.mean(\n",
    "                                [\n",
    "                                  topic_seeds[topic+'/'+sub_topic] for sub_topic in list(seedTopics[topic]['sub-topic'].keys())\n",
    "                                ]\n",
    "                                , axis=0\n",
    "                            )\n",
    "                        ]\n",
    "                        + [topic_seeds[topic]]*main_topic_weight*len(list(seedTopics[topic]['sub-topic'].keys()))\n",
    "                        , axis=0\n",
    "                    )\n",
    "                else:\n",
    "                    print('Not Altering Main Topic')\n",
    "            except:\n",
    "                print(topic,'Whoohs!')\n",
    "                pass\n",
    "    else:\n",
    "        topics = list(seedTopics.keys())\n",
    "\n",
    "        for topic in topics:\n",
    "            if topic not in topic_seeds.keys():\n",
    "                indices = seedTopics[topic]['indices']\n",
    "                topic_embedding = np.mean([get_embedding_text(ind) for ind in indices], axis=0)\n",
    "                topic_seeds[topic]= topic_embedding\n",
    "    \n",
    "    return topic_seeds"
   ]
  },
  {
   "cell_type": "code",
   "execution_count": 5,
   "id": "c81a33f3-e2e5-4b86-9d06-ed812fcbd28a",
   "metadata": {},
   "outputs": [],
   "source": [
    "include_sub_topics = True\n",
    "method = 'pool'"
   ]
  },
  {
   "cell_type": "code",
   "execution_count": 6,
   "id": "acfbdf97-a3c5-4313-8ea7-ffbf3531ec64",
   "metadata": {},
   "outputs": [],
   "source": [
    "main_topic_update_method=2\n",
    "main_topic_weight=2"
   ]
  },
  {
   "cell_type": "code",
   "execution_count": 7,
   "id": "ca1fc9ea-0c3e-4bab-b14f-6340898e6682",
   "metadata": {},
   "outputs": [
    {
     "name": "stdout",
     "output_type": "stream",
     "text": [
      "140 seeds: ['0', '0/0', '0/1', '0/2', '0/3', '0/4', '0/5', '0/6', '0/7', '0/8', '0/9', '0/10', '0/11', '0/12', '0/13', '0/14', '0/15', '0/16', '1', '1/0', '1/1', '1/2', '1/3', '1/4', '1/5', '1/6', '1/7', '1/9', '1/10', '1/11', '1/12', '1/13', '1/14', '1/15', '2', '2/0', '2/1', '2/2', '2/3', '2/4', '2/5', '2/6', '2/7', '2/8', '2/9', '2/10', '2/11', '2/12', '2/13', '2/14', '2/15', '2/16', '2/17', '2/18', '3', '3/0', '3/1', '3/2', '3/3', '3/4', '3/5', '3/6', '3/7', '3/8', '4', '4/0', '4/1', '4/2', '4/3', '4/4', '4/5', '4/6', '4/7', '4/8', '4/9', '4/10', '5', '5/0', '5/1', '5/2', '5/3', '5/4', '5/5', '5/6', '5/7', '5/8', '5/9', '5/10', '5/11', '5/12', '5/13', '5/14', '5/15', '5/16', '5/17', '5/18', '5/19', '5/20', '5/21', '5/22', '5/23', '5/24', '5/25', '5/26', '5/27', '5/28', '5/29', '5/30', '5/31', '5/32', '5/33', '5/34', '5/35', '5/36', '5/37', '5/38', '5/39', '5/40', '5/41', '5/42', '5/43', '5/44', '5/45', '5/46', '5/47', '5/48', '5/49', '5/50', '5/51', '5/52', '6', '6/0', '6/1', '6/2', '6/3', '6/4', '6/5', '6/6', '6/7', '6/8'] \n",
      "\n"
     ]
    }
   ],
   "source": [
    "topic_seeds = get_topic_seeds(\n",
    "    seeds, {}, main_topic_update_method=main_topic_update_method, main_topic_weight=main_topic_weight\n",
    ")\n",
    "\n",
    "print(len(list(topic_seeds.keys())),'seeds:',list(topic_seeds.keys()),'\\n')"
   ]
  },
  {
   "cell_type": "code",
   "execution_count": 8,
   "id": "06d5c3f8-cabf-46d4-ac4c-27696f1d2ce4",
   "metadata": {},
   "outputs": [],
   "source": [
    "pickle.dump(topic_seeds, open(seed_embeddings_file, \"wb\"))"
   ]
  }
 ],
 "metadata": {
  "kernelspec": {
   "display_name": "Python 3",
   "language": "python",
   "name": "python3"
  },
  "language_info": {
   "codemirror_mode": {
    "name": "ipython",
    "version": 3
   },
   "file_extension": ".py",
   "mimetype": "text/x-python",
   "name": "python",
   "nbconvert_exporter": "python",
   "pygments_lexer": "ipython3",
   "version": "3.8.8"
  }
 },
 "nbformat": 4,
 "nbformat_minor": 5
}
